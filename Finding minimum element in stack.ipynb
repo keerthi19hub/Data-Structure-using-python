{
 "cells": [
  {
   "cell_type": "code",
   "execution_count": null,
   "id": "bc5cbca1-b1f8-4555-9e1b-c6b26759bd40",
   "metadata": {},
   "outputs": [],
   "source": [
    "#Finding the minimum element in stack \n",
    "\n",
    "\n",
    "class Stack:\n",
    "    def __init__(self):\n",
    "        self.stack = []\n",
    "        self.min_stack = []\n",
    "\n",
    "    def push(self, item):\n",
    "        self.stack.append(item)\n",
    "        if not self.min_stack or item <= self.min_stack[-1]:\n",
    "            self.min_stack.append(item)\n",
    "\n",
    "    def pop(self):\n",
    "        if self.stack:\n",
    "            if self.stack[-1] == self.min_stack[-1]:\n",
    "                self.min_stack.pop()\n",
    "            return self.stack.pop()\n",
    "        return \"Stack is empty\"\n",
    "\n",
    "    def get_min(self):\n",
    "        if self.min_stack:\n",
    "            return self.min_stack[-1]\n",
    "        return \"Stack is empty\"\n",
    "\n",
    "Example usage:\n",
    "stack = Stack()\n",
    "stack.push(10)\n",
    "stack.push(20)\n",
    "stack.push(5)\n",
    "stack.push(30)\n",
    "print(\"Minimum element:\", stack.get_min())  # Output: 5\n",
    "stack.pop()\n",
    "print(\"Minimum element:\", stack.get_min())  # Output: 10\n"
   ]
  }
 ],
 "metadata": {
  "kernelspec": {
   "display_name": "Python 3 (ipykernel)",
   "language": "python",
   "name": "python3"
  },
  "language_info": {
   "codemirror_mode": {
    "name": "ipython",
    "version": 3
   },
   "file_extension": ".py",
   "mimetype": "text/x-python",
   "name": "python",
   "nbconvert_exporter": "python",
   "pygments_lexer": "ipython3",
   "version": "3.12.4"
  }
 },
 "nbformat": 4,
 "nbformat_minor": 5
}
