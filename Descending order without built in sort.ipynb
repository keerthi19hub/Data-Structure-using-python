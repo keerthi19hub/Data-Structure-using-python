{
 "cells": [
  {
   "cell_type": "code",
   "execution_count": 3,
   "id": "3c728629-cd8f-41df-8b4d-91691ae866de",
   "metadata": {},
   "outputs": [
    {
     "name": "stdout",
     "output_type": "stream",
     "text": [
      "Original Stack: [10, 20, 5, 30]\n",
      "Sorted Stack (Descending): [30, 20, 10, 5]\n"
     ]
    }
   ],
   "source": [
    "#Here's an example code  to sort a stack in descending order without using the built-in sort() function:\n",
    "\n",
    "class Stack:\n",
    "    def __init__(self):\n",
    "        self.stack = []\n",
    "\n",
    "    def push(self, item):\n",
    "        self.stack.append(item)\n",
    "\n",
    "    def pop(self):\n",
    "        if self.stack:\n",
    "            return self.stack.pop()\n",
    "        return \"Stack is empty\"\n",
    "\n",
    "    def is_empty(self):\n",
    "        return len(self.stack) == 0\n",
    "\n",
    "    def sort_descending(self):\n",
    "        temp_stack = Stack()\n",
    "        while not self.is_empty():\n",
    "            temp = self.pop()\n",
    "            while not temp_stack.is_empty() and temp_stack.stack[-1] < temp:\n",
    "                self.push(temp_stack.pop())\n",
    "            temp_stack.push(temp)\n",
    "        self.stack = temp_stack.stack\n",
    "\n",
    "#Example usage:\n",
    "stack = Stack()\n",
    "stack.push(10)\n",
    "stack.push(20)\n",
    "stack.push(5)\n",
    "stack.push(30)\n",
    "print(\"Original Stack:\", stack.stack)\n",
    "stack.sort_descending()\n",
    "print(\"Sorted Stack (Descending):\", stack.stack)\n"
   ]
  },
  {
   "cell_type": "code",
   "execution_count": null,
   "id": "ac29e5af-6f9b-4944-9444-f8d8b9180d79",
   "metadata": {},
   "outputs": [],
   "source": []
  }
 ],
 "metadata": {
  "kernelspec": {
   "display_name": "Python 3 (ipykernel)",
   "language": "python",
   "name": "python3"
  },
  "language_info": {
   "codemirror_mode": {
    "name": "ipython",
    "version": 3
   },
   "file_extension": ".py",
   "mimetype": "text/x-python",
   "name": "python",
   "nbconvert_exporter": "python",
   "pygments_lexer": "ipython3",
   "version": "3.12.4"
  }
 },
 "nbformat": 4,
 "nbformat_minor": 5
}
