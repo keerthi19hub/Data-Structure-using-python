{
 "cells": [
  {
   "cell_type": "code",
   "execution_count": 5,
   "id": "8f3c9723-0129-49aa-8c6c-14fb46bc9af7",
   "metadata": {},
   "outputs": [
    {
     "name": "stdout",
     "output_type": "stream",
     "text": [
      "10\n",
      "20\n",
      "30\n",
      "40\n",
      "50\n",
      "<class 'array.array'>\n"
     ]
    }
   ],
   "source": [
    "from array import*\n",
    "array1=array('i',[10,20,30,40,50])\n",
    "for x in array1:#traversal\n",
    "    print(x)\n",
    "print(type(array1))"
   ]
  },
  {
   "cell_type": "code",
   "execution_count": 9,
   "id": "0a879d6d-673a-49f8-8bbb-1b0f54f57924",
   "metadata": {},
   "outputs": [
    {
     "name": "stdout",
     "output_type": "stream",
     "text": [
      "10\n",
      "30\n"
     ]
    }
   ],
   "source": [
    "from array import*\n",
    "array1=array('i',[10,20,30,40,50])\n",
    "print(array1[0])\n",
    "print(array1[2])"
   ]
  },
  {
   "cell_type": "code",
   "execution_count": 11,
   "id": "26c2cc09-f221-4878-8b05-1e7d98ba5ea2",
   "metadata": {},
   "outputs": [
    {
     "name": "stdout",
     "output_type": "stream",
     "text": [
      "10\n",
      "60\n",
      "20\n",
      "30\n",
      "40\n",
      "50\n"
     ]
    }
   ],
   "source": [
    "from array import*\n",
    "array1=array('i',[10,20,30,40,50])\n",
    "array1.insert(1,60)\n",
    "for x in array1:\n",
    "    print(x)"
   ]
  },
  {
   "cell_type": "code",
   "execution_count": 13,
   "id": "e2b0edce-bace-463d-a80a-a25832010fe6",
   "metadata": {},
   "outputs": [
    {
     "name": "stdout",
     "output_type": "stream",
     "text": [
      "10\n",
      "20\n",
      "30\n",
      "50\n"
     ]
    }
   ],
   "source": [
    "from array import*\n",
    "array1=array('i',[10,20,30,40,50])\n",
    "array1.remove(40)\n",
    "for x in array1:\n",
    "    print(x)"
   ]
  },
  {
   "cell_type": "code",
   "execution_count": 15,
   "id": "87ad07ba-bd20-46ee-b8ce-ae4406963856",
   "metadata": {},
   "outputs": [
    {
     "name": "stdout",
     "output_type": "stream",
     "text": [
      "3\n"
     ]
    }
   ],
   "source": [
    "from array import*\n",
    "array1=array('i',[10,20,30,40,50])\n",
    "print(array1.index(40))"
   ]
  },
  {
   "cell_type": "code",
   "execution_count": 17,
   "id": "735cfc39-bd1a-4a42-9f42-07bae2fe6daa",
   "metadata": {},
   "outputs": [
    {
     "name": "stdout",
     "output_type": "stream",
     "text": [
      "10\n",
      "20\n",
      "80\n",
      "40\n",
      "50\n"
     ]
    }
   ],
   "source": [
    "from array import*\n",
    "array1=array('i',[10,20,30,40,50])\n",
    "array1[2]=80\n",
    "for x in array1:\n",
    "    print(x)"
   ]
  },
  {
   "cell_type": "code",
   "execution_count": 29,
   "id": "6a9d55d9-62f2-4cd7-b530-1d578a02a8c6",
   "metadata": {},
   "outputs": [
    {
     "name": "stdout",
     "output_type": "stream",
     "text": [
      "10\n",
      "1\n",
      "min: 1\n",
      "max: 10\n",
      "5\n",
      "27\n",
      "5.4\n"
     ]
    }
   ],
   "source": [
    "from array import*\n",
    "array1=[6,8,1,2,10]\n",
    "array1.sort()\n",
    "print(max(array1))\n",
    "print(min(array1))\n",
    "print(\"min:\",array1[0])\n",
    "print(\"max:\",array1[-1])\n",
    "print(len(array1))\n",
    "print(sum(array1))\n",
    "print(sum(array1)/len(array1))"
   ]
  },
  {
   "cell_type": "code",
   "execution_count": 31,
   "id": "1bec88b8-57d4-4ead-905f-1a356a6f4aab",
   "metadata": {},
   "outputs": [
    {
     "name": "stdout",
     "output_type": "stream",
     "text": [
      "[10, 2, 1, 8, 6]\n"
     ]
    }
   ],
   "source": [
    "#reverse an array without using built function\n",
    "array1=[6,8,1,2,10]\n",
    "print(array1[::-1])"
   ]
  },
  {
   "cell_type": "code",
   "execution_count": null,
   "id": "5ff9997c-a368-4f4e-91c0-ea104ce3c408",
   "metadata": {},
   "outputs": [],
   "source": [
    "#reverse using for loop\n"
   ]
  }
 ],
 "metadata": {
  "kernelspec": {
   "display_name": "Python 3 (ipykernel)",
   "language": "python",
   "name": "python3"
  },
  "language_info": {
   "codemirror_mode": {
    "name": "ipython",
    "version": 3
   },
   "file_extension": ".py",
   "mimetype": "text/x-python",
   "name": "python",
   "nbconvert_exporter": "python",
   "pygments_lexer": "ipython3",
   "version": "3.12.4"
  }
 },
 "nbformat": 4,
 "nbformat_minor": 5
}
