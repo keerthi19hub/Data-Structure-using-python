{
 "cells": [
  {
   "cell_type": "markdown",
   "id": "27ec11e3-1d23-4fe4-9268-2abfab1140f6",
   "metadata": {},
   "source": [
    "2. Reverse a Queue Using Recursion\n"
   ]
  },
  {
   "cell_type": "code",
   "execution_count": 17,
   "id": "33007dd9-11fc-43fb-bc1a-5a5f4dbf5abd",
   "metadata": {},
   "outputs": [
    {
     "name": "stdout",
     "output_type": "stream",
     "text": [
      "3\n",
      "2\n",
      "1\n"
     ]
    }
   ],
   "source": [
    "class Queue:\n",
    "    def __init__(self):\n",
    "        self.items = []\n",
    "\n",
    "    def enqueue(self, x):\n",
    "        self.items.append(x)\n",
    "\n",
    "    def dequeue(self):\n",
    "        return self.items.pop(0)\n",
    "\n",
    "    def is_empty(self):\n",
    "        return not self.items\n",
    "\n",
    "    def reverse(self):\n",
    "        if not self.is_empty():\n",
    "            temp = self.dequeue()\n",
    "            self.reverse()\n",
    "            self.enqueue(temp)\n",
    "\n",
    "# Example usage:\n",
    "q = Queue()\n",
    "q.enqueue(1)\n",
    "q.enqueue(2)\n",
    "q.enqueue(3)\n",
    "q.reverse()\n",
    "while not q.is_empty():\n",
    "    print(q.dequeue())"
   ]
  },
  {
   "cell_type": "code",
   "execution_count": null,
   "id": "78edce6d-36a6-4452-a04d-2b92f4b1ac59",
   "metadata": {},
   "outputs": [],
   "source": []
  }
 ],
 "metadata": {
  "kernelspec": {
   "display_name": "Python 3 (ipykernel)",
   "language": "python",
   "name": "python3"
  },
  "language_info": {
   "codemirror_mode": {
    "name": "ipython",
    "version": 3
   },
   "file_extension": ".py",
   "mimetype": "text/x-python",
   "name": "python",
   "nbconvert_exporter": "python",
   "pygments_lexer": "ipython3",
   "version": "3.12.4"
  }
 },
 "nbformat": 4,
 "nbformat_minor": 5
}
