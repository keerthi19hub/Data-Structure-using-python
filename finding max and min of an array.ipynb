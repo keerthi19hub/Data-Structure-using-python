{
 "cells": [
  {
   "cell_type": "code",
   "execution_count": 3,
   "id": "04ebe842-7044-4309-af6b-38f1e9afd8c7",
   "metadata": {},
   "outputs": [
    {
     "data": {
      "text/plain": [
       "(10, 50)"
      ]
     },
     "execution_count": 3,
     "metadata": {},
     "output_type": "execute_result"
    }
   ],
   "source": [
    "#finding the largest and smallest element in an array\n",
    "import numpy as np\n",
    "x=np.array([10,20,30,40,50])\n",
    "def min_max(x):\n",
    "    min_e=np.min(x)\n",
    "    max_e=np.max(x)\n",
    "    return min_e,max_e\n",
    "min_max(x)"
   ]
  }
 ],
 "metadata": {
  "kernelspec": {
   "display_name": "Python 3 (ipykernel)",
   "language": "python",
   "name": "python3"
  },
  "language_info": {
   "codemirror_mode": {
    "name": "ipython",
    "version": 3
   },
   "file_extension": ".py",
   "mimetype": "text/x-python",
   "name": "python",
   "nbconvert_exporter": "python",
   "pygments_lexer": "ipython3",
   "version": "3.12.4"
  }
 },
 "nbformat": 4,
 "nbformat_minor": 5
}
