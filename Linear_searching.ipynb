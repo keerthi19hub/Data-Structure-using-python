{
 "cells": [
  {
   "cell_type": "code",
   "execution_count": 1,
   "id": "4cd50ac0-bd0e-4889-9558-806b455cf146",
   "metadata": {},
   "outputs": [
    {
     "name": "stdin",
     "output_type": "stream",
     "text": [
      " 11\n"
     ]
    },
    {
     "name": "stdout",
     "output_type": "stream",
     "text": [
      "0\n"
     ]
    }
   ],
   "source": [
    "import numpy as np\n",
    "x=np.array([11,15,26,38,9,10])\n",
    "target=int(input())\n",
    "def positive_index(x,target):\n",
    "    n=len(x)\n",
    "    for i in range(n):\n",
    "        if x[i]==target:\n",
    "            print(i)\n",
    "positive_index(x,target)"
   ]
  },
  {
   "cell_type": "code",
   "execution_count": null,
   "id": "5aa4d1ed-f5e4-4c46-9311-1405662700ab",
   "metadata": {},
   "outputs": [],
   "source": []
  }
 ],
 "metadata": {
  "kernelspec": {
   "display_name": "Python 3 (ipykernel)",
   "language": "python",
   "name": "python3"
  },
  "language_info": {
   "codemirror_mode": {
    "name": "ipython",
    "version": 3
   },
   "file_extension": ".py",
   "mimetype": "text/x-python",
   "name": "python",
   "nbconvert_exporter": "python",
   "pygments_lexer": "ipython3",
   "version": "3.12.4"
  }
 },
 "nbformat": 4,
 "nbformat_minor": 5
}
