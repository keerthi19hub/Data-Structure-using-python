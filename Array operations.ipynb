{
 "cells": [
  {
   "cell_type": "code",
   "execution_count": 11,
   "id": "8b7edd6c-6cf5-4184-aa80-dba5a485eb34",
   "metadata": {},
   "outputs": [
    {
     "name": "stdout",
     "output_type": "stream",
     "text": [
      "10\n",
      "20\n",
      "None\n",
      "array('i', [10, 20, 80, 30, 40, 50])\n",
      "array('i', [10, 20, 80, 30, 50])\n",
      "4\n"
     ]
    }
   ],
   "source": [
    "#Array Operations\n",
    "import array as arr\n",
    "x=arr.array('i',[10,20,30,40,50])\n",
    "print(x[0])\n",
    "print(x[1])\n",
    "print(x.insert(2,80))#insert operations\n",
    "print(x)\n",
    "x.remove(40)#remove operations\n",
    "print(x)\n",
    "print(x.index(50))#search operation"
   ]
  },
  {
   "cell_type": "code",
   "execution_count": 7,
   "id": "9a2efdd5-01d7-4267-90f0-232177b36225",
   "metadata": {},
   "outputs": [
    {
     "name": "stdout",
     "output_type": "stream",
     "text": [
      "[ 10  20 100  30  40  50]\n"
     ]
    }
   ],
   "source": [
    "import numpy as np\n",
    "y=np.array([10,20,30,40,50])\n",
    "z=np.insert(y,2,100)\n",
    "print(z)"
   ]
  },
  {
   "cell_type": "code",
   "execution_count": 13,
   "id": "687ca32e-c950-42de-bbac-e1121cea5601",
   "metadata": {},
   "outputs": [
    {
     "name": "stdout",
     "output_type": "stream",
     "text": [
      "array('i', [100, 20, 80, 30, 50])\n"
     ]
    }
   ],
   "source": [
    "#update operation\n",
    "x[0]=100\n",
    "print(x)"
   ]
  },
  {
   "cell_type": "code",
   "execution_count": 15,
   "id": "218437f5-03f6-442d-9e14-b7afe7300ca5",
   "metadata": {},
   "outputs": [],
   "source": [
    "x=np.array([10,20,30,40,50])\n",
    "def min_max(x):\n",
    "    min_e=np.min(x)\n",
    "    max_e=np.max(x)\n",
    "    return min_e,max_e\n",
    "    "
   ]
  },
  {
   "cell_type": "code",
   "execution_count": null,
   "id": "cb784abe-f0f2-450c-8a3f-14d249849ca1",
   "metadata": {},
   "outputs": [],
   "source": []
  }
 ],
 "metadata": {
  "kernelspec": {
   "display_name": "Python 3 (ipykernel)",
   "language": "python",
   "name": "python3"
  },
  "language_info": {
   "codemirror_mode": {
    "name": "ipython",
    "version": 3
   },
   "file_extension": ".py",
   "mimetype": "text/x-python",
   "name": "python",
   "nbconvert_exporter": "python",
   "pygments_lexer": "ipython3",
   "version": "3.12.4"
  }
 },
 "nbformat": 4,
 "nbformat_minor": 5
}
