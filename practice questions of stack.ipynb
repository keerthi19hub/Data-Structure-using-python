{
 "cells": [
  {
   "cell_type": "code",
   "execution_count": 1,
   "id": "5c3566b2-7da3-4563-b968-ea97c023d60d",
   "metadata": {},
   "outputs": [
    {
     "name": "stdout",
     "output_type": "stream",
     "text": [
      "Original String: monkey\n",
      "Reversed String: yeknom\n"
     ]
    }
   ],
   "source": [
    "#Here’s a Python implementation of reversing a string using a stack:\n",
    "\n",
    "#Python Code:\n",
    "\n",
    "def reverse_string_using_stack(s):\n",
    "    stack = []  # Initialize an empty stack\n",
    "\n",
    "    # Push all characters onto the stack\n",
    "    for char in s:\n",
    "        stack.append(char)\n",
    "    \n",
    "    reversed_str = \"\"\n",
    "\n",
    "    # Pop characters from stack and build the reversed string\n",
    "    while stack:\n",
    "        reversed_str += stack.pop()\n",
    "    \n",
    "    return reversed_str\n",
    "\n",
    "# Example usage\n",
    "input_string = \"monkey\"\n",
    "reversed_string = reverse_string_using_stack(input_string)\n",
    "print(\"Original String:\", input_string)\n",
    "print(\"Reversed String:\", reversed_string)\n",
    "\n"
   ]
  },
  {
   "cell_type": "code",
   "execution_count": 3,
   "id": "875a33b8-cf5a-4b12-bc0e-4d5ef892cb67",
   "metadata": {},
   "outputs": [
    {
     "name": "stdout",
     "output_type": "stream",
     "text": [
      "Original String: monkey\n",
      "Reversed String: yeknom\n"
     ]
    }
   ],
   "source": [
    "#Here’s a Python implementation following the exact steps described in the slides:\n",
    "\n",
    "#Python Code:\n",
    "\n",
    "def reverse_string_using_stack(s):\n",
    "    stack = []  # Step 1: Initialize an empty stack\n",
    "\n",
    "    # Step 2: Push all characters of the string onto the stack\n",
    "    for char in s:\n",
    "        stack.append(char)\n",
    "    \n",
    "    r = []  # Step 3: Initialize an empty list to store reversed characters\n",
    "\n",
    "    # Step 4: Pop characters from stack and append to r[]\n",
    "    while stack:\n",
    "        r.append(stack.pop())\n",
    "    \n",
    "    # Step 5: Convert list back to a string and return\n",
    "    return \"\".join(r)\n",
    "\n",
    "# Example usage\n",
    "input_string = \"monkey\"\n",
    "reversed_string = reverse_string_using_stack(input_string)\n",
    "print(\"Original String:\", input_string)\n",
    "print(\"Reversed String:\", reversed_string)\n"
   ]
  },
  {
   "cell_type": "code",
   "execution_count": null,
   "id": "707daa39-9faa-483a-92c2-d5589cd17600",
   "metadata": {},
   "outputs": [],
   "source": [
    "The slide explains how to evaluate mathematical expressions and print the result. The given Sample Input contains arithmetic expressions:\n",
    "\n",
    "1 + 2\n",
    "(1 + 2) / 5\n",
    "10 * 20\n",
    "\n",
    "And the expected Sample Output is:\n",
    "\n",
    "3\n",
    "0\n",
    "200\n",
    "\n",
    "Python Code to Evaluate Expressions\n",
    "\n",
    "We can use Python’s eval() function to evaluate these expressions dynamically:\n",
    "\n",
    "def evaluate_expressions(expressions):\n",
    "    results = []\n",
    "    for expr in expressions:\n",
    "        try:\n",
    "            results.append(str(int(eval(expr))))  # Evaluate and convert to integer\n",
    "        except Exception as e:\n",
    "            results.append(f\"Error: {e}\")  # Handle any errors\n",
    "    return results\n",
    "\n",
    "# Sample input expressions\n",
    "expressions = [\n",
    "    \"1 + 2\",\n",
    "    \"(1 + 2) / 5\",\n",
    "    \"10 * 20\"\n",
    "]\n",
    "\n",
    "# Evaluate and print results\n",
    "output = evaluate_expressions(expressions)\n",
    "for result in output:\n",
    "    print(result)\n",
    "\n",
    "Output:\n",
    "\n",
    "3\n",
    "0\n",
    "200\n",
    "\n",
    "This program reads a list of expressions, evaluates them using eval(), and prints the results. Would you like additional features, such as handling user input dynamically?"
   ]
  }
 ],
 "metadata": {
  "kernelspec": {
   "display_name": "Python 3 (ipykernel)",
   "language": "python",
   "name": "python3"
  },
  "language_info": {
   "codemirror_mode": {
    "name": "ipython",
    "version": 3
   },
   "file_extension": ".py",
   "mimetype": "text/x-python",
   "name": "python",
   "nbconvert_exporter": "python",
   "pygments_lexer": "ipython3",
   "version": "3.12.4"
  }
 },
 "nbformat": 4,
 "nbformat_minor": 5
}
