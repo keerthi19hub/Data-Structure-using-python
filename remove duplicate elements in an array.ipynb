{
 "cells": [
  {
   "cell_type": "code",
   "execution_count": 9,
   "id": "7a988f85-d79e-4f1d-bb6b-883e2e110ece",
   "metadata": {},
   "outputs": [
    {
     "name": "stdout",
     "output_type": "stream",
     "text": [
      "<class 'numpy.ndarray'>\n",
      "[ 10  20  30  40  50   0 100]\n"
     ]
    }
   ],
   "source": [
    "# FIND THE REMOVE DUPLICATE ELEMENTS IN AN ARRAY:-\n",
    "import numpy as np\n",
    "x=np.array([10,20,30,40,50,10,0,30,100])\n",
    "def r_dup(x):\n",
    "    new_arr=[]\n",
    "    for i in x:\n",
    "        if i not in new_arr:\n",
    "            new_arr.append(i)\n",
    "    return np.array(new_arr)\n",
    "result=r_dup(x)\n",
    "print(type(result))\n",
    "print(result)"
   ]
  },
  {
   "cell_type": "code",
   "execution_count": 11,
   "id": "fb9f39ac-ef1a-4843-8177-32f3a18b153e",
   "metadata": {},
   "outputs": [
    {
     "name": "stdout",
     "output_type": "stream",
     "text": [
      "<class 'numpy.ndarray'>\n",
      "[  0 100  40  10  50  20  30]\n"
     ]
    }
   ],
   "source": [
    "# FIND THE REMOVE DUPLICATE ELEMENTS IN AN ARRAY:-\n",
    "import numpy as np\n",
    "x=np.array([10,20,30,40,50,10,0,30,100])\n",
    "def r_dup(x):\n",
    "    res=list(set(x))\n",
    "    return np.array(res)\n",
    "result=r_dup(x)\n",
    "print(type(result))\n",
    "print(result)"
   ]
  },
  {
   "cell_type": "code",
   "execution_count": null,
   "id": "6415f3a9-931f-484c-9927-24e2f433f3a2",
   "metadata": {},
   "outputs": [],
   "source": []
  }
 ],
 "metadata": {
  "kernelspec": {
   "display_name": "Python 3 (ipykernel)",
   "language": "python",
   "name": "python3"
  },
  "language_info": {
   "codemirror_mode": {
    "name": "ipython",
    "version": 3
   },
   "file_extension": ".py",
   "mimetype": "text/x-python",
   "name": "python",
   "nbconvert_exporter": "python",
   "pygments_lexer": "ipython3",
   "version": "3.12.4"
  }
 },
 "nbformat": 4,
 "nbformat_minor": 5
}
