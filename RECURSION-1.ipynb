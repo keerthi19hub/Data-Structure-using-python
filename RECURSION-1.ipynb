{
 "cells": [
  {
   "cell_type": "code",
   "execution_count": 1,
   "id": "5f2fd2c6-5eaa-4049-ae4a-3a181b682c34",
   "metadata": {},
   "outputs": [
    {
     "name": "stdout",
     "output_type": "stream",
     "text": [
      "Tower of Hanoi solution:\n",
      "Move disk 1 from rod A to rod C\n",
      "Move disk 2 from rod A to rod B\n",
      "Move disk 1 from rod C to rod B\n",
      "Move disk 3 from rod A to rod C\n",
      "Move disk 1 from rod B to rod A\n",
      "Move disk 2 from rod B to rod C\n",
      "Move disk 1 from rod A to rod C\n"
     ]
    }
   ],
   "source": [
    "def tower_of_hanoi(n, source, target, auxiliary):\n",
    "    if n == 1:\n",
    "        print(f\"Move disk 1 from rod {source} to rod {target}\")\n",
    "        return\n",
    "    tower_of_hanoi(n - 1, source, auxiliary, target)\n",
    "    print(f\"Move disk {n} from rod {source} to rod {target}\")\n",
    "    tower_of_hanoi(n - 1, auxiliary, target, source)\n",
    "n = 3  \n",
    "source = \"A\"  \n",
    "target = \"C\"\n",
    "auxiliary = \"B\"\n",
    "print(\"Tower of Hanoi solution:\")\n",
    "tower_of_hanoi(n, source, target, auxiliary)"
   ]
  },
  {
   "cell_type": "code",
   "execution_count": 3,
   "id": "27b766a5-cc36-4eb8-8f93-7aa1205588bb",
   "metadata": {},
   "outputs": [
    {
     "name": "stdout",
     "output_type": "stream",
     "text": [
      "[0, 1, 1, 2, 3, 5, 8, 13, 21, 34]\n"
     ]
    }
   ],
   "source": [
    "#iteration\n",
    "def fibonacci(n):\n",
    "    fib_sequence = [0, 1]\n",
    "    while len(fib_sequence) < n:\n",
    "        fib_sequence.append(fib_sequence[-1] + fib_sequence[-2])\n",
    "    return fib_sequence\n",
    "n = 10  \n",
    "print(fibonacci(n))"
   ]
  },
  {
   "cell_type": "code",
   "execution_count": 5,
   "id": "a78ff0ab-5f5d-4b49-adc2-1cbf910bf527",
   "metadata": {},
   "outputs": [
    {
     "name": "stdout",
     "output_type": "stream",
     "text": [
      "0\n",
      "1\n",
      "1\n",
      "2\n",
      "3\n",
      "5\n",
      "8\n",
      "13\n",
      "21\n",
      "34\n",
      "0\n",
      "1\n",
      "1\n",
      "2\n",
      "3\n",
      "5\n",
      "8\n",
      "13\n",
      "21\n",
      "34\n"
     ]
    }
   ],
   "source": [
    "#recurvsion\n",
    "def fibonacci(n):\n",
    "    if n <= 0:\n",
    "        return \"Input should be a positive integer\"\n",
    "    elif n == 1:\n",
    "        return 0\n",
    "    elif n == 2:\n",
    "        return 1\n",
    "    else:\n",
    "        return fibonacci(n-1) + fibonacci(n-2)\n",
    "n = 10  \n",
    "for i in range(1, n+1):\n",
    "    print(fibonacci(i))\n",
    "def fibonacci(n, memo={}):\n",
    "    if n <= 0:\n",
    "        return \"Input should be a positive integer\"\n",
    "    elif n == 1:\n",
    "        return 0\n",
    "    elif n == 2:\n",
    "        return 1\n",
    "    elif n in memo:\n",
    "        return memo[n]\n",
    "    else:\n",
    "        memo[n] = fibonacci(n-1, memo) + fibonacci(n-2, memo)\n",
    "        return memo[n]\n",
    "n = 10 \n",
    "for i in range(1, n+1):\n",
    "    print(fibonacci(i))"
   ]
  },
  {
   "cell_type": "code",
   "execution_count": 7,
   "id": "d5542262-06a4-42e8-bce9-3a16a9b3fb61",
   "metadata": {},
   "outputs": [
    {
     "data": {
      "text/plain": [
       "1"
      ]
     },
     "execution_count": 7,
     "metadata": {},
     "output_type": "execute_result"
    }
   ],
   "source": [
    "# 2. Sum of digits\n",
    "def sum_of_digits(n):\n",
    "    if n == 0:\n",
    "        return 0\n",
    "    return n % 10 + sum_of_digits(n // 10)\n",
    "sum_of_digits(10)"
   ]
  },
  {
   "cell_type": "code",
   "execution_count": 9,
   "id": "ccd4fb8b-a087-47e1-9dd8-73df07c21be0",
   "metadata": {},
   "outputs": [
    {
     "data": {
      "text/plain": [
       "2"
      ]
     },
     "execution_count": 9,
     "metadata": {},
     "output_type": "execute_result"
    }
   ],
   "source": [
    " #3. GCD Calculation\n",
    "def gcd(a, b):\n",
    "    if b == 0:\n",
    "        return a\n",
    "    return gcd(b, a % b)\n",
    "gcd(14,36)"
   ]
  },
  {
   "cell_type": "code",
   "execution_count": 11,
   "id": "e8de24d5-b6bc-4266-ad92-902dda10cf07",
   "metadata": {},
   "outputs": [
    {
     "data": {
      "text/plain": [
       "55"
      ]
     },
     "execution_count": 11,
     "metadata": {},
     "output_type": "execute_result"
    }
   ],
   "source": [
    "# 4. Fibonacci Series (Mutual Recursion)\n",
    "def fibonacci(n):\n",
    "    if n <= 1:\n",
    "        return n\n",
    "    return fibonacci(n - 1) + fibonacci(n - 2)\n",
    "fibonacci(10)"
   ]
  },
  {
   "cell_type": "code",
   "execution_count": 13,
   "id": "dafa40cb-44e0-4043-ad9c-3477160a98a7",
   "metadata": {},
   "outputs": [
    {
     "data": {
      "text/plain": [
       "'10100'"
      ]
     },
     "execution_count": 13,
     "metadata": {},
     "output_type": "execute_result"
    }
   ],
   "source": [
    "# 5. Decimal to Binary\n",
    "def decimal_to_binary(n):\n",
    "    if n == 0:\n",
    "        return \"\"\n",
    "    return decimal_to_binary(n // 2) + str(n % 2)\n",
    "decimal_to_binary(20)"
   ]
  },
  {
   "cell_type": "code",
   "execution_count": 15,
   "id": "e3d1bdf8-3bad-408d-8268-1a681ed2ce13",
   "metadata": {},
   "outputs": [
    {
     "data": {
      "text/plain": [
       "1"
      ]
     },
     "execution_count": 15,
     "metadata": {},
     "output_type": "execute_result"
    }
   ],
   "source": [
    "# 6. Count number of zeroes\n",
    "def count_zeroes(n):\n",
    "    if n == 0:\n",
    "        return 1\n",
    "    if n < 10:\n",
    "        return 0\n",
    "    return (1 if n % 10 == 0 else 0) + count_zeroes(n // 10)\n",
    "count_zeroes(10)"
   ]
  },
  {
   "cell_type": "code",
   "execution_count": 17,
   "id": "59b10031-312a-4581-a961-5336292b3328",
   "metadata": {},
   "outputs": [
    {
     "data": {
      "text/plain": [
       "3"
      ]
     },
     "execution_count": 17,
     "metadata": {},
     "output_type": "execute_result"
    }
   ],
   "source": [
    "# 7. Sum of first n natural numbers\n",
    "def sum_natural(n):\n",
    "    if n == 1:\n",
    "        return 1\n",
    "    return n + sum_natural(n - 1)\n",
    "sum_natural(2)"
   ]
  },
  {
   "cell_type": "code",
   "execution_count": 19,
   "id": "3e34f19e-4b8e-4a33-960e-5f04cebc2f31",
   "metadata": {},
   "outputs": [
    {
     "data": {
      "text/plain": [
       "2"
      ]
     },
     "execution_count": 19,
     "metadata": {},
     "output_type": "execute_result"
    }
   ],
   "source": [
    "# 8. Count number of digits\n",
    "def count_digits(n):\n",
    "    if n == 0:\n",
    "        return 0\n",
    "    return 1 + count_digits(n // 10)\n",
    "count_digits(10)"
   ]
  },
  {
   "cell_type": "code",
   "execution_count": 21,
   "id": "77dde62b-7392-4b79-9e35-4d639c76f806",
   "metadata": {},
   "outputs": [
    {
     "data": {
      "text/plain": [
       "1"
      ]
     },
     "execution_count": 21,
     "metadata": {},
     "output_type": "execute_result"
    }
   ],
   "source": [
    "# 9. Count odd digits\n",
    "def count_odd_digits(n):\n",
    "    if n == 0:\n",
    "        return 0\n",
    "    return (1 if (n % 10) % 2 != 0 else 0) + count_odd_digits(n // 10)\n",
    "count_odd_digits(50)"
   ]
  },
  {
   "cell_type": "code",
   "execution_count": 23,
   "id": "76bb679e-c578-45e7-80da-d1444fa54e68",
   "metadata": {},
   "outputs": [
    {
     "data": {
      "text/plain": [
       "7"
      ]
     },
     "execution_count": 23,
     "metadata": {},
     "output_type": "execute_result"
    }
   ],
   "source": [
    "# 10. Find length of a string\n",
    "def string_length(s):\n",
    "    if s == \"\":\n",
    "        return 0\n",
    "    return 1 + string_length(s[1:])\n",
    "string_length(\"Keerthi\")"
   ]
  },
  {
   "cell_type": "code",
   "execution_count": 25,
   "id": "b80a037e-fd69-42bc-b269-a02cba1cb2a9",
   "metadata": {},
   "outputs": [
    {
     "data": {
      "text/plain": [
       "<function __main__.count_digits(n)>"
      ]
     },
     "execution_count": 25,
     "metadata": {},
     "output_type": "execute_result"
    }
   ],
   "source": [
    " #11. Count digits in a string\n",
    "def count_digits_string(s):\n",
    "    if s == \"\":\n",
    "        return 0\n",
    "    return (1 if s[0].isdigit() else 0) + count_digits_string(s[1:])\n",
    "count_digits"
   ]
  },
  {
   "cell_type": "code",
   "execution_count": 1,
   "id": "7c61921a-8007-4625-bcb1-fc6dbfa3fbb8",
   "metadata": {},
   "outputs": [
    {
     "data": {
      "text/plain": [
       "'ihtreeK'"
      ]
     },
     "execution_count": 1,
     "metadata": {},
     "output_type": "execute_result"
    }
   ],
   "source": [
    "# 12. Reverse a string\n",
    "def reverse_string(s):\n",
    "    if s == \"\":\n",
    "        return \"\"\n",
    "    return reverse_string(s[1:]) + s[0]\n",
    "reverse_string(\"Keerthi\")"
   ]
  },
  {
   "cell_type": "code",
   "execution_count": 5,
   "id": "18378437-c9a8-4e5a-bc07-fea349f352e7",
   "metadata": {},
   "outputs": [
    {
     "data": {
      "text/plain": [
       "2"
      ]
     },
     "execution_count": 5,
     "metadata": {},
     "output_type": "execute_result"
    }
   ],
   "source": [
    "# 13. Count vowels in a string\n",
    "def count_vowels(s):\n",
    "    if s == \"\":\n",
    "        return 0\n",
    "    return (1 if s[0] in \"aeiouAEIOU\" else 0) + count_vowels(s[1:])\n",
    "count_vowels(\"Twinkle\")"
   ]
  },
  {
   "cell_type": "code",
   "execution_count": 9,
   "id": "a689802a-8e61-47b4-af56-0aac581aa19d",
   "metadata": {},
   "outputs": [
    {
     "name": "stdin",
     "output_type": "stream",
     "text": [
      "Enter any number:  5\n"
     ]
    },
    {
     "name": "stdout",
     "output_type": "stream",
     "text": [
      "Factorial output: 120\n"
     ]
    }
   ],
   "source": [
    "def factorial(num):\n",
    "    if num == 0:\n",
    "        return 1\n",
    "    else:\n",
    "        return num*factorial(num-1)\n",
    "n = int(input(\"Enter any number: \"))\n",
    "fact = factorial(n)\n",
    "print(\"Factorial output:\",fact)\n"
   ]
  },
  {
   "cell_type": "code",
   "execution_count": 11,
   "id": "63fa8089-985b-44fc-8040-a15a0b1cd3d4",
   "metadata": {},
   "outputs": [
    {
     "name": "stdin",
     "output_type": "stream",
     "text": [
      "Enter any number: 5\n",
      "Enter exponent: 2\n"
     ]
    },
    {
     "name": "stdout",
     "output_type": "stream",
     "text": [
      "Result: 25\n"
     ]
    }
   ],
   "source": [
    "def power(a,b):\n",
    "    if b == 0:\n",
    "        return 1\n",
    "    else:\n",
    "        return a*power(a,b-1)\n",
    "num = int(input(\"Enter any number:\"))\n",
    "exp = int(input(\"Enter exponent:\"))\n",
    "result = power(num,exp)\n",
    "print(\"Result:\",result)"
   ]
  },
  {
   "cell_type": "code",
   "execution_count": 13,
   "id": "e44090af-10aa-41f7-a0ce-7839955bdf12",
   "metadata": {},
   "outputs": [
    {
     "name": "stdout",
     "output_type": "stream",
     "text": [
      "Fibonacci number at position 5 is 3\n"
     ]
    }
   ],
   "source": [
    "def fibonacci(n):\n",
    "# Base case\n",
    "    if n < 1:\n",
    "        return -1\n",
    "    elif n==1:\n",
    "        return 0\n",
    "    elif n==2:\n",
    "        return 1\n",
    "# Recursive case (binary recursion)\n",
    "    else:\n",
    "        return fibonacci(n-1) + fibonacci(n-2)\n",
    "# Example usage\n",
    "n = 5 # Change this value to test other positions\n",
    "print(f\"Fibonacci number at position {n} is {fibonacci(n)}\")"
   ]
  },
  {
   "cell_type": "code",
   "execution_count": 15,
   "id": "b2494876-8a29-42ae-9537-604a3d46dcc0",
   "metadata": {},
   "outputs": [
    {
     "name": "stdout",
     "output_type": "stream",
     "text": [
      "The number is odd\n"
     ]
    }
   ],
   "source": [
    "def iseven(n):\n",
    "# Base case for even number\n",
    "    if n == 0:\n",
    "        return True\n",
    "# Base case for odd number\n",
    "    elif n == 1:\n",
    "        return False\n",
    "# Recursive case\n",
    "    elif n > 1:\n",
    "        return isodd(n - 1)\n",
    "# Handle negative numbers\n",
    "    elif n < 0:\n",
    "        return iseven(-n)\n",
    "def isodd(n):\n",
    "    return not iseven(n)\n",
    "# Input from the user\n",
    "num = -5\n",
    "if iseven(num):\n",
    "    print(\"The number is even\")\n",
    "else:\n",
    "    print(\"The number is odd\")"
   ]
  },
  {
   "cell_type": "code",
   "execution_count": null,
   "id": "4371bd90-681d-4513-a171-49d8e0a654ec",
   "metadata": {},
   "outputs": [],
   "source": []
  }
 ],
 "metadata": {
  "kernelspec": {
   "display_name": "Python 3 (ipykernel)",
   "language": "python",
   "name": "python3"
  },
  "language_info": {
   "codemirror_mode": {
    "name": "ipython",
    "version": 3
   },
   "file_extension": ".py",
   "mimetype": "text/x-python",
   "name": "python",
   "nbconvert_exporter": "python",
   "pygments_lexer": "ipython3",
   "version": "3.12.4"
  }
 },
 "nbformat": 4,
 "nbformat_minor": 5
}
