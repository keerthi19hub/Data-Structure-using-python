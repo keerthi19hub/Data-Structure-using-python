{
 "cells": [
  {
   "cell_type": "code",
   "execution_count": 2,
   "id": "3c8c291a-4be3-4d31-a80e-d0708def987d",
   "metadata": {},
   "outputs": [
    {
     "ename": "AttributeError",
     "evalue": "'Stack' object has no attribute 'stack'",
     "output_type": "error",
     "traceback": [
      "\u001b[1;31m---------------------------------------------------------------------------\u001b[0m",
      "\u001b[1;31mAttributeError\u001b[0m                            Traceback (most recent call last)",
      "Cell \u001b[1;32mIn[2], line 35\u001b[0m\n\u001b[0;32m     33\u001b[0m \u001b[38;5;66;03m# Example usage\u001b[39;00m\n\u001b[0;32m     34\u001b[0m stack \u001b[38;5;241m=\u001b[39m Stack()\n\u001b[1;32m---> 35\u001b[0m stack\u001b[38;5;241m.\u001b[39mpush(\u001b[38;5;241m3\u001b[39m)\n\u001b[0;32m     36\u001b[0m stack\u001b[38;5;241m.\u001b[39mpush(\u001b[38;5;241m1\u001b[39m)\n\u001b[0;32m     37\u001b[0m stack\u001b[38;5;241m.\u001b[39mpush(\u001b[38;5;241m4\u001b[39m)\n",
      "Cell \u001b[1;32mIn[2], line 9\u001b[0m, in \u001b[0;36mStack.push\u001b[1;34m(self, item)\u001b[0m\n\u001b[0;32m      8\u001b[0m \u001b[38;5;28;01mdef\u001b[39;00m \u001b[38;5;21mpush\u001b[39m(\u001b[38;5;28mself\u001b[39m, item):\n\u001b[1;32m----> 9\u001b[0m     \u001b[38;5;28mself\u001b[39m\u001b[38;5;241m.\u001b[39mstack\u001b[38;5;241m.\u001b[39mappend(item)\n",
      "\u001b[1;31mAttributeError\u001b[0m: 'Stack' object has no attribute 'stack'"
     ]
    }
   ],
   "source": [
    "#Reversing a stack \n",
    "\n",
    "\n",
    "class Stack:\n",
    "    def _init_(self):\n",
    "        self.stack = []\n",
    "\n",
    "    def push(self, item):\n",
    "        self.stack.append(item)\n",
    "\n",
    "    def pop(self):\n",
    "        if not self.is_empty():\n",
    "            return self.stack.pop()\n",
    "        return None\n",
    "\n",
    "    def is_empty(self):\n",
    "        return len(self.stack) == 0\n",
    "\n",
    "    def reverse_stack(self):\n",
    "        if not self.is_empty():\n",
    "            temp = self.pop()\n",
    "            self.reverse_stack()\n",
    "            self.insert_at_bottom(temp)\n",
    "\n",
    "    def insert_at_bottom(self, item):\n",
    "        if self.is_empty():\n",
    "            self.push(item)\n",
    "        else:\n",
    "            temp = self.pop()\n",
    "            self.insert_at_bottom(item)\n",
    "            self.push(temp)\n",
    "\n",
    "# Example usage\n",
    "stack = Stack()\n",
    "stack.push(3)\n",
    "stack.push(1)\n",
    "stack.push(4)\n",
    "stack.push(2)\n",
    "\n",
    "print(\"Original Stack:\", stack.stack)\n",
    "stack.reverse_stack()\n",
    "print(\"Reversed Stack:\", stack.stack)"
   ]
  },
  {
   "cell_type": "code",
   "execution_count": null,
   "id": "9c38aa20-db9c-4aba-a2f5-396357164048",
   "metadata": {},
   "outputs": [],
   "source": []
  }
 ],
 "metadata": {
  "kernelspec": {
   "display_name": "Python 3 (ipykernel)",
   "language": "python",
   "name": "python3"
  },
  "language_info": {
   "codemirror_mode": {
    "name": "ipython",
    "version": 3
   },
   "file_extension": ".py",
   "mimetype": "text/x-python",
   "name": "python",
   "nbconvert_exporter": "python",
   "pygments_lexer": "ipython3",
   "version": "3.12.4"
  }
 },
 "nbformat": 4,
 "nbformat_minor": 5
}
